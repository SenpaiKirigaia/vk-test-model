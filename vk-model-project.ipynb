{
 "cells": [
  {
   "cell_type": "code",
   "execution_count": 2,
   "id": "317faa2ed218a317",
   "metadata": {
    "collapsed": false,
    "ExecuteTime": {
     "end_time": "2024-03-06T17:59:58.807991100Z",
     "start_time": "2024-03-06T17:59:58.639874200Z"
    }
   },
   "outputs": [],
   "source": [
    "import pandas as pd\n",
    "from sklearn.ensemble import GradientBoostingRegressor, RandomForestRegressor\n",
    "from sklearn.metrics import ndcg_score\n",
    "from sklearn.decomposition import PCA\n",
    "from sklearn.preprocessing import StandardScaler\n",
    "import numpy as np\n",
    "import matplotlib.pyplot as plt\n",
    "from xgboost import XGBRanker"
   ]
  },
  {
   "cell_type": "markdown",
   "source": [
    "# 1 - Загрузка и просмотр данных\n"
   ],
   "metadata": {
    "collapsed": false
   },
   "id": "e3b1078cd193e4ef"
  },
  {
   "cell_type": "code",
   "outputs": [
    {
     "name": "stdout",
     "output_type": "stream",
     "text": [
      "(15081, 81) (1529, 81)\n"
     ]
    },
    {
     "data": {
      "text/plain": "   search_id  feature_0  feature_1  feature_2  feature_3  feature_4  \\\n0        758          9          0          0          1         20   \n1        758          9          0          0          1         20   \n2        758          9          0          0          1         20   \n3        758          9          0          0          1         20   \n4        758          9          0          0          1         20   \n\n   feature_5  feature_6  feature_7  feature_8  ...  feature_70  feature_71  \\\n0          3         40          0          3  ...    0.204682    0.271755   \n1          3         40          0          3  ...    0.195531    0.188787   \n2          3         40          0          3  ...    0.148609    0.186517   \n3          3         40          0          3  ...    0.223748    0.229039   \n4          3         40          0          3  ...    0.170935    0.249031   \n\n   feature_72  feature_73  feature_74  feature_75  feature_76  feature_77  \\\n0    0.055623           0           0           0     0.38648         0.0   \n1    0.036914           0           0           0     0.10982         0.0   \n2    0.027718           0           0           0     0.03674         0.0   \n3    0.051247           0           0           0     0.00000         0.0   \n4    0.042568           0           0           0     0.00000         0.0   \n\n   feature_78  target  \n0         0.0       0  \n1         0.0       0  \n2         0.0       0  \n3         0.0       0  \n4         0.0       0  \n\n[5 rows x 81 columns]",
      "text/html": "<div>\n<style scoped>\n    .dataframe tbody tr th:only-of-type {\n        vertical-align: middle;\n    }\n\n    .dataframe tbody tr th {\n        vertical-align: top;\n    }\n\n    .dataframe thead th {\n        text-align: right;\n    }\n</style>\n<table border=\"1\" class=\"dataframe\">\n  <thead>\n    <tr style=\"text-align: right;\">\n      <th></th>\n      <th>search_id</th>\n      <th>feature_0</th>\n      <th>feature_1</th>\n      <th>feature_2</th>\n      <th>feature_3</th>\n      <th>feature_4</th>\n      <th>feature_5</th>\n      <th>feature_6</th>\n      <th>feature_7</th>\n      <th>feature_8</th>\n      <th>...</th>\n      <th>feature_70</th>\n      <th>feature_71</th>\n      <th>feature_72</th>\n      <th>feature_73</th>\n      <th>feature_74</th>\n      <th>feature_75</th>\n      <th>feature_76</th>\n      <th>feature_77</th>\n      <th>feature_78</th>\n      <th>target</th>\n    </tr>\n  </thead>\n  <tbody>\n    <tr>\n      <th>0</th>\n      <td>758</td>\n      <td>9</td>\n      <td>0</td>\n      <td>0</td>\n      <td>1</td>\n      <td>20</td>\n      <td>3</td>\n      <td>40</td>\n      <td>0</td>\n      <td>3</td>\n      <td>...</td>\n      <td>0.204682</td>\n      <td>0.271755</td>\n      <td>0.055623</td>\n      <td>0</td>\n      <td>0</td>\n      <td>0</td>\n      <td>0.38648</td>\n      <td>0.0</td>\n      <td>0.0</td>\n      <td>0</td>\n    </tr>\n    <tr>\n      <th>1</th>\n      <td>758</td>\n      <td>9</td>\n      <td>0</td>\n      <td>0</td>\n      <td>1</td>\n      <td>20</td>\n      <td>3</td>\n      <td>40</td>\n      <td>0</td>\n      <td>3</td>\n      <td>...</td>\n      <td>0.195531</td>\n      <td>0.188787</td>\n      <td>0.036914</td>\n      <td>0</td>\n      <td>0</td>\n      <td>0</td>\n      <td>0.10982</td>\n      <td>0.0</td>\n      <td>0.0</td>\n      <td>0</td>\n    </tr>\n    <tr>\n      <th>2</th>\n      <td>758</td>\n      <td>9</td>\n      <td>0</td>\n      <td>0</td>\n      <td>1</td>\n      <td>20</td>\n      <td>3</td>\n      <td>40</td>\n      <td>0</td>\n      <td>3</td>\n      <td>...</td>\n      <td>0.148609</td>\n      <td>0.186517</td>\n      <td>0.027718</td>\n      <td>0</td>\n      <td>0</td>\n      <td>0</td>\n      <td>0.03674</td>\n      <td>0.0</td>\n      <td>0.0</td>\n      <td>0</td>\n    </tr>\n    <tr>\n      <th>3</th>\n      <td>758</td>\n      <td>9</td>\n      <td>0</td>\n      <td>0</td>\n      <td>1</td>\n      <td>20</td>\n      <td>3</td>\n      <td>40</td>\n      <td>0</td>\n      <td>3</td>\n      <td>...</td>\n      <td>0.223748</td>\n      <td>0.229039</td>\n      <td>0.051247</td>\n      <td>0</td>\n      <td>0</td>\n      <td>0</td>\n      <td>0.00000</td>\n      <td>0.0</td>\n      <td>0.0</td>\n      <td>0</td>\n    </tr>\n    <tr>\n      <th>4</th>\n      <td>758</td>\n      <td>9</td>\n      <td>0</td>\n      <td>0</td>\n      <td>1</td>\n      <td>20</td>\n      <td>3</td>\n      <td>40</td>\n      <td>0</td>\n      <td>3</td>\n      <td>...</td>\n      <td>0.170935</td>\n      <td>0.249031</td>\n      <td>0.042568</td>\n      <td>0</td>\n      <td>0</td>\n      <td>0</td>\n      <td>0.00000</td>\n      <td>0.0</td>\n      <td>0.0</td>\n      <td>0</td>\n    </tr>\n  </tbody>\n</table>\n<p>5 rows × 81 columns</p>\n</div>"
     },
     "execution_count": 3,
     "metadata": {},
     "output_type": "execute_result"
    }
   ],
   "source": [
    "train_df = pd.read_csv('train_df.csv')\n",
    "test_df = pd.read_csv('test_df.csv')\n",
    "print(train_df.shape, test_df.shape)\n",
    "train_df.head()"
   ],
   "metadata": {
    "collapsed": false,
    "ExecuteTime": {
     "end_time": "2024-03-06T18:00:00.875022200Z",
     "start_time": "2024-03-06T18:00:00.755456200Z"
    }
   },
   "id": "7a05f9d3acd2d8e",
   "execution_count": 3
  },
  {
   "cell_type": "code",
   "outputs": [
    {
     "name": "stdout",
     "output_type": "stream",
     "text": [
      "search_id     0\n",
      "feature_0     0\n",
      "feature_1     0\n",
      "feature_2     0\n",
      "feature_3     0\n",
      "             ..\n",
      "feature_75    0\n",
      "feature_76    0\n",
      "feature_77    0\n",
      "feature_78    0\n",
      "target        0\n",
      "Length: 81, dtype: int64 search_id     0\n",
      "feature_0     0\n",
      "feature_1     0\n",
      "feature_2     0\n",
      "feature_3     0\n",
      "             ..\n",
      "feature_75    0\n",
      "feature_76    0\n",
      "feature_77    0\n",
      "feature_78    0\n",
      "target        0\n",
      "Length: 81, dtype: int64\n"
     ]
    }
   ],
   "source": [
    "# Проверим наличие пропущенных значений\n",
    "print(train_df.isnull().sum(), test_df.isnull().sum())"
   ],
   "metadata": {
    "collapsed": false,
    "ExecuteTime": {
     "end_time": "2024-03-06T18:00:03.201202200Z",
     "start_time": "2024-03-06T18:00:03.179203400Z"
    }
   },
   "id": "f54e445e9cdd6ae1",
   "execution_count": 4
  },
  {
   "cell_type": "markdown",
   "source": [
    "Пропущенные значения отсутствуют в обоих наборах данных. Поэтому можно переходить к следующему шагу.\n",
    "\n",
    "# 2 - Подготовка данных"
   ],
   "metadata": {
    "collapsed": false
   },
   "id": "b4770765e95c19e5"
  },
  {
   "cell_type": "code",
   "outputs": [],
   "source": [
    "X_train = train_df.drop(columns=['search_id', 'target'])\n",
    "y_train = train_df['target']\n",
    "X_test = test_df.drop(columns=['search_id', 'target'])\n",
    "y_test = test_df['target']\n",
    "\n",
    "# Нормализация признаков\n",
    "scaler = StandardScaler()\n",
    "X_normalized = scaler.fit_transform(X_train)\n",
    "\n",
    "X_train_normalized = scaler.transform(X_train)\n",
    "X_test_normalized = scaler.transform(X_test)\n",
    "\n",
    "X_train_normalized = pd.DataFrame(X_train_normalized, \n",
    "                                  columns=X_train.columns)\n",
    "X_test_normalized = pd.DataFrame(X_test_normalized,\n",
    "                                 columns=X_test.columns)\n"
   ],
   "metadata": {
    "collapsed": false,
    "ExecuteTime": {
     "end_time": "2024-03-06T18:00:05.960040Z",
     "start_time": "2024-03-06T18:00:05.916041900Z"
    }
   },
   "id": "8f42ea6f06e9fc4d",
   "execution_count": 5
  },
  {
   "cell_type": "markdown",
   "source": [
    "# 3 - Обучение моделей"
   ],
   "metadata": {
    "collapsed": false
   },
   "id": "4694ec2c0f344ecb"
  },
  {
   "cell_type": "markdown",
   "source": [
    "В обучении моделей будем использовать следующие алгоритмы:\n",
    "- Градиентный бустинг \n",
    "- XGBRanker \n",
    "\n",
    "Для каждого алгоритма будем подбирать гиперпараметры с помощью случайного поиска."
   ],
   "metadata": {
    "collapsed": false
   },
   "id": "cda5ad2e9c21857d"
  },
  {
   "cell_type": "markdown",
   "source": [
    "## 3.1 - Градиентный бустинг\n",
    "\n",
    "Градиентный бустинг - это метод построения композиций базовых моделей с помощью последовательного добавления к текущей композиции новой модели с учетом ошибки предыдущей композиции. В качестве базовой модели используется решающее дерево."
   ],
   "metadata": {
    "collapsed": false
   },
   "id": "9970a74d3aaa690"
  },
  {
   "cell_type": "code",
   "outputs": [],
   "source": [
    "def random_search(model, param_grid, X_train, y_train, X_test, y_test, n_iter=10):\n",
    "    best_score = float('-inf')\n",
    "    best_params = None\n",
    "    for i in range(n_iter):  # Количество итераций для случайного поиска\n",
    "        params = {param: np.random.choice(values) for param, values in param_grid.items()}\n",
    "        \n",
    "        # Оценка параметров\n",
    "        model.set_params(**params)\n",
    "        try:\n",
    "            model.fit(X_train, y_train)\n",
    "        except ValueError:\n",
    "            model.fit(X_train, y_train, group=train_df.groupby('search_id').size().values)\n",
    "        scores = model.predict(X_test)\n",
    "        score = ndcg_score([y_test], [scores])\n",
    "        \n",
    "        print('NDCG score: ', score, 'params: ', params, 'iter: ', i+1)\n",
    "        if score > best_score:\n",
    "            best_score = score\n",
    "            best_params = params\n",
    "\n",
    "    print(\"Best parameters found: \", best_params, \"with NDCG score: \", best_score)\n",
    "    return best_params, best_score"
   ],
   "metadata": {
    "collapsed": false,
    "ExecuteTime": {
     "end_time": "2024-03-06T18:02:00.048934500Z",
     "start_time": "2024-03-06T18:02:00.040420900Z"
    }
   },
   "id": "8d7867d307637cc2",
   "execution_count": 12
  },
  {
   "cell_type": "code",
   "outputs": [],
   "source": [
    "param_grid = {\n",
    "    'learning_rate': np.linspace(0.00005, 0.1, 10), \n",
    "    'n_estimators': np.random.randint(50, 300, 10),\n",
    "    'max_depth': np.arange(1, 10),\n",
    "    'min_samples_leaf': np.arange(1, 10),\n",
    "    'max_features': ['sqrt', 'log2', None],\n",
    "}\n",
    "\n",
    "model = GradientBoostingRegressor()\n",
    "best_params, best_score = random_search(model, param_grid,\n",
    "                                        X_train_normalized, y_train,\n",
    "                                        X_test_normalized, y_test)"
   ],
   "metadata": {
    "collapsed": false,
    "ExecuteTime": {
     "end_time": "2024-03-06T16:49:53.704080Z",
     "start_time": "2024-03-06T16:49:53.677082600Z"
    }
   },
   "id": "d7224fd02a61fdd0",
   "execution_count": 3
  },
  {
   "cell_type": "markdown",
   "source": [
    "Best parameters found:  {'learning_rate': 0.06668333333333333, 'n_estimators': 136, 'max_depth': 1, 'min_samples_leaf': 7, 'max_features': None} with NDCG score:  0.6736194918991895"
   ],
   "metadata": {
    "collapsed": false
   },
   "id": "532affe3dd77bd1f"
  },
  {
   "cell_type": "code",
   "outputs": [
    {
     "name": "stdout",
     "output_type": "stream",
     "text": [
      "0.6736269204592273\n"
     ]
    }
   ],
   "source": [
    "# Обучение модели с найденными параметрами\n",
    "model = GradientBoostingRegressor(n_estimators=136, learning_rate=0.067, max_depth=1, min_samples_leaf=7, max_features=None)\n",
    "model.fit(X_train_normalized, y_train)\n",
    "scores = model.predict(X_test_normalized)\n",
    "print(ndcg_score([y_test], [scores]))"
   ],
   "metadata": {
    "collapsed": false,
    "ExecuteTime": {
     "end_time": "2024-03-06T18:00:20.660137Z",
     "start_time": "2024-03-06T18:00:12.510535700Z"
    }
   },
   "id": "6d16277860043c8b",
   "execution_count": 7
  },
  {
   "cell_type": "markdown",
   "source": [
    "Используя найденные параметры, получили значение NDCG метрики равное 0.6736. Теперь перейдем к обучению модели XGBRanker."
   ],
   "metadata": {
    "collapsed": false
   },
   "id": "881b1ac0bd7812bd"
  },
  {
   "cell_type": "markdown",
   "source": [
    "## 3.2 - XGBRanker\n",
    "\n",
    "XGBRanker - это реализация градиентного бустинга, которая позволяет обучать модель на ранжирование. В качестве функции потерь используется NDCG."
   ],
   "metadata": {
    "collapsed": false
   },
   "id": "528891b2731cf68a"
  },
  {
   "cell_type": "code",
   "outputs": [],
   "source": [
    "param_grid = {\n",
    "    'learning_rate': np.linspace(0.00005, 0.1, 100), \n",
    "    'max_depth': np.arange(2, 10),\n",
    "    'n_estimators': np.random.randint(50, 175, 10),\n",
    "    'gamma': [0, 0.01, 0.02, 0.03, 0.1, 0.2, 0.3, 0.4, 0.5, 0.001, 0.002, 0.003, 0.004, 0.005],\n",
    "    'min_child_weight': [1, 2, 3, 4, 5, 6, 7, 8],\n",
    "}\n",
    "\n",
    "ranker = XGBRanker(objective=\"rank:ndcg\", group=train_df.groupby('search_id').size().value)\n",
    "best_params, best_score = random_search(ranker, param_grid,\n",
    "                                        X_train_normalized, y_train,\n",
    "                                        X_test_normalized, y_test)"
   ],
   "metadata": {
    "collapsed": false,
    "ExecuteTime": {
     "end_time": "2024-03-06T16:50:01.921825300Z",
     "start_time": "2024-03-06T16:50:01.876314700Z"
    }
   },
   "id": "74bfbe1ebd7155aa",
   "execution_count": 5
  },
  {
   "cell_type": "markdown",
   "source": [
    "Best parameters found:  {'learning_rate': 0.004088383838383838, 'max_depth': 2, 'n_estimators': 50, 'gamma': 0.003, 'min_child_weight': 3} with NDCG score:  0.660601519976541"
   ],
   "metadata": {
    "collapsed": false
   },
   "id": "8843ba12e16a76cc"
  },
  {
   "cell_type": "code",
   "outputs": [
    {
     "name": "stdout",
     "output_type": "stream",
     "text": [
      "0.660601519976541\n"
     ]
    }
   ],
   "source": [
    "# Обучение модели с найденными параметрами\n",
    "ranker = XGBRanker(objective=\"rank:ndcg\", n_estimators=50, learning_rate=0.0041, max_depth=2, gamma=0.003, min_child_weight=3)\n",
    "ranker.fit(X_train_normalized, y_train, group=train_df.groupby('search_id').size().values)\n",
    "scores = ranker.predict(X_test_normalized)\n",
    "print(ndcg_score([y_test], [scores]))"
   ],
   "metadata": {
    "collapsed": false,
    "ExecuteTime": {
     "end_time": "2024-03-06T18:00:25.666669600Z",
     "start_time": "2024-03-06T18:00:23.937758Z"
    }
   },
   "id": "4603e4eeaa4fc999",
   "execution_count": 8
  },
  {
   "cell_type": "markdown",
   "source": [
    "Используя найденные параметры, получили значение NDCG метрики равное 0.6606. "
   ],
   "metadata": {
    "collapsed": false
   },
   "id": "900c847f5943eaa4"
  },
  {
   "cell_type": "markdown",
   "source": [
    "# 4 - PCA (principal component analysis)"
   ],
   "metadata": {
    "collapsed": false
   },
   "id": "c607073c9e0fbb82"
  },
  {
   "cell_type": "markdown",
   "source": [
    "Попробуем уменьшить размерность данных с помощью метода главных компонент."
   ],
   "metadata": {
    "collapsed": false
   },
   "id": "b1d3fcbb486bf564"
  },
  {
   "cell_type": "code",
   "outputs": [],
   "source": [
    "n = int(input())\n",
    "arr = list(map(int, input().split()))\n",
    "result = \"\"\n",
    "i = 0\n",
    "while arr[i] % 2 == 0:\n",
    "    result += \"+\"\n",
    "    i += 1\n",
    "for j in range(i+1, n):\n",
    "    if arr[j] % 2 == 0:\n",
    "        result += \"+\"\n",
    "    else:\n",
    "        result += \"x\"\n",
    "\n",
    "print(result)\n"
   ],
   "metadata": {
    "collapsed": false
   },
   "id": "5a4deb4e1879fc87"
  },
  {
   "cell_type": "code",
   "outputs": [
    {
     "name": "stdout",
     "output_type": "stream",
     "text": [
      "(15081, 79) (1529, 79)\n",
      "(15081, 53) (1529, 53)\n"
     ]
    }
   ],
   "source": [
    "pca = PCA(n_components=0.95)\n",
    "print(X_train_normalized.shape, X_test_normalized.shape)\n",
    "X_train_pca = pca.fit_transform(X_train_normalized)\n",
    "X_test_pca = pca.transform(X_test_normalized)\n",
    "\n",
    "print(X_train_pca.shape, X_test_pca.shape)"
   ],
   "metadata": {
    "collapsed": false,
    "ExecuteTime": {
     "end_time": "2024-03-06T18:00:27.858504Z",
     "start_time": "2024-03-06T18:00:27.778504Z"
    }
   },
   "id": "64837442751a977a",
   "execution_count": 9
  },
  {
   "cell_type": "markdown",
   "source": [
    "Можно заметить, что размерность данных была уменьшена с 79 до 53. Теперь обучим модели с новыми данными."
   ],
   "metadata": {
    "collapsed": false
   },
   "id": "7b13145b1ae07d9a"
  },
  {
   "cell_type": "code",
   "outputs": [],
   "source": [
    "param_grid = {\n",
    "    'learning_rate': np.linspace(0.001, 0.1, 100), \n",
    "    'n_estimators': np.random.randint(50, 300, 10),\n",
    "    'max_depth': np.arange(1, 10),\n",
    "    'min_samples_leaf': np.arange(1, 10),\n",
    "    'max_features': ['sqrt', 'log2', None],\n",
    "}\n",
    "\n",
    "model = GradientBoostingRegressor()\n",
    "best_params, best_score = random_search(model, param_grid,\n",
    "                                        X_train_pca, y_train,\n",
    "                                        X_test_pca, y_test)"
   ],
   "metadata": {
    "collapsed": false,
    "ExecuteTime": {
     "end_time": "2024-03-06T16:57:05.639888200Z",
     "start_time": "2024-03-06T16:57:05.635173300Z"
    }
   },
   "id": "94a52116824f70a2",
   "execution_count": null
  },
  {
   "cell_type": "markdown",
   "source": [
    "Best parameters found:  {'learning_rate': 0.012, 'n_estimators': 169, 'max_depth': 9, 'min_samples_leaf': 6, 'max_features': 'sqrt'} with NDCG score:  0.4628962865023646"
   ],
   "metadata": {
    "collapsed": false
   },
   "id": "8ec103bc409089d5"
  },
  {
   "cell_type": "code",
   "outputs": [
    {
     "name": "stdout",
     "output_type": "stream",
     "text": [
      "NDCG score:  0.44102710906678366 params:  {'learning_rate': 0.03740505050505051, 'max_depth': 3, 'n_estimators': 40, 'gamma': 0.1, 'min_child_weight': 4} iter:  1\n",
      "NDCG score:  0.41441857411043154 params:  {'learning_rate': 0.045481818181818186, 'max_depth': 7, 'n_estimators': 194, 'gamma': 0.2, 'min_child_weight': 8} iter:  2\n",
      "NDCG score:  0.4379202510473297 params:  {'learning_rate': 0.08788484848484848, 'max_depth': 9, 'n_estimators': 84, 'gamma': 0.0, 'min_child_weight': 6} iter:  3\n",
      "NDCG score:  0.46902870965541227 params:  {'learning_rate': 0.07173131313131313, 'max_depth': 7, 'n_estimators': 86, 'gamma': 0.3, 'min_child_weight': 6} iter:  4\n",
      "NDCG score:  0.417166034701307 params:  {'learning_rate': 0.023270707070707074, 'max_depth': 2, 'n_estimators': 81, 'gamma': 0.003, 'min_child_weight': 3} iter:  5\n",
      "NDCG score:  0.47537276593078565 params:  {'learning_rate': 0.0798080808080808, 'max_depth': 9, 'n_estimators': 148, 'gamma': 0.005, 'min_child_weight': 2} iter:  6\n",
      "NDCG score:  0.4408717977538256 params:  {'learning_rate': 0.05860656565656566, 'max_depth': 6, 'n_estimators': 248, 'gamma': 0.004, 'min_child_weight': 6} iter:  7\n",
      "NDCG score:  0.42558987010829413 params:  {'learning_rate': 0.02730909090909091, 'max_depth': 7, 'n_estimators': 171, 'gamma': 0.005, 'min_child_weight': 3} iter:  8\n",
      "NDCG score:  0.4265232297042605 params:  {'learning_rate': 0.0798080808080808, 'max_depth': 5, 'n_estimators': 189, 'gamma': 0.003, 'min_child_weight': 3} iter:  9\n",
      "NDCG score:  0.4326790289584469 params:  {'learning_rate': 0.022261111111111113, 'max_depth': 9, 'n_estimators': 29, 'gamma': 0.4, 'min_child_weight': 1} iter:  10\n",
      "Best parameters found:  {'learning_rate': 0.0798080808080808, 'max_depth': 9, 'n_estimators': 148, 'gamma': 0.005, 'min_child_weight': 2} with NDCG score:  0.47537276593078565\n"
     ]
    }
   ],
   "source": [
    "param_grid = {\n",
    "    'learning_rate': np.linspace(0.00005, 0.1, 100), \n",
    "    'max_depth': np.arange(2, 10),\n",
    "    'n_estimators': np.random.randint(50, 250, 100),\n",
    "    'gamma': [0, 0.01, 0.02, 0.03, 0.1, 0.2, 0.3, 0.4, 0.5, 0.001, 0.002, 0.003, 0.004, 0.005],\n",
    "    'min_child_weight': [1, 2, 3, 4, 5, 6, 7, 8],\n",
    "}\n",
    "\n",
    "ranker = XGBRanker(objective=\"rank:ndcg\")\n",
    "best_params, best_score = random_search(ranker, param_grid,\n",
    "                                        X_train_pca, y_train,\n",
    "                                        X_test_pca, y_test)"
   ],
   "metadata": {
    "collapsed": false,
    "ExecuteTime": {
     "end_time": "2024-03-06T18:37:43.483174900Z",
     "start_time": "2024-03-06T18:37:32.705707100Z"
    }
   },
   "id": "afcb4055d149745b",
   "execution_count": 27
  },
  {
   "cell_type": "markdown",
   "source": [
    "Best parameters found:  {'learning_rate': 0.023270707070707074, 'max_depth': 6, 'n_estimators': 124, 'gamma': 0.003, 'min_child_weight': 5} with NDCG score:  0.501515990479487"
   ],
   "metadata": {
    "collapsed": false
   },
   "id": "773110c6d8269bd0"
  },
  {
   "cell_type": "markdown",
   "source": [
    "Выполнение PCA привело к ухудшению качества моделей. Поэтому в дальнейшем будем использовать исходные данные."
   ],
   "metadata": {
    "collapsed": false
   },
   "id": "31b8cb8c3e608c76"
  },
  {
   "cell_type": "markdown",
   "source": [
    "# 5 - Важность признаков\n",
    "\n",
    "Чтобы понять, какие признаки вносят наибольший вклад в модель, построим график важности признаков для модели градиентного бустинга и XGBRanker.\n",
    "\n",
    "Графики строим на уже полученных гиперпараметрах.\n"
   ],
   "metadata": {
    "collapsed": false
   },
   "id": "1b777d833758888f"
  },
  {
   "cell_type": "code",
   "outputs": [
    {
     "data": {
      "text/plain": "<Figure size 1600x500 with 1 Axes>",
      "image/png": "[encoded data removed]"
     },
     "metadata": {},
     "output_type": "display_data"
    }
   ],
   "source": [
    "model = GradientBoostingRegressor(n_estimators=136, learning_rate=0.067, max_depth=1, min_samples_leaf=7, max_features=None)\n",
    "model.fit(X_train_normalized, y_train)\n",
    "importances = model.feature_importances_\n",
    "indices = np.argsort(importances)[::-1]\n",
    "\n",
    "plt.figure(figsize=(16, 5))\n",
    "plt.title(\"Feature importances\")\n",
    "plt.bar(range(X_train_normalized.shape[1]), importances[indices],\n",
    "       color=\"r\", align=\"center\")\n",
    "plt.xticks(range(X_train_normalized.shape[1]), X_train_normalized.columns[indices], rotation=90)\n",
    "plt.xlim([-1, X_train_normalized.shape[1]])\n",
    "plt.show()\n",
    "\n"
   ],
   "metadata": {
    "collapsed": false,
    "ExecuteTime": {
     "end_time": "2024-03-06T18:48:37.158802300Z",
     "start_time": "2024-03-06T18:48:25.688890400Z"
    }
   },
   "id": "8234be373c495ad5",
   "execution_count": 63
  },
  {
   "cell_type": "markdown",
   "source": [
    "Из графика видно, что наибольший вклад вноясят лишь некоторые признаки. Попробуем обучить модель, используя только 23 наиболее важных признака."
   ],
   "metadata": {
    "collapsed": false
   },
   "id": "18ea0c340c1107cc"
  },
  {
   "cell_type": "code",
   "outputs": [
    {
     "data": {
      "text/plain": "Index(['feature_70', 'feature_72', 'feature_53', 'feature_66', 'feature_5',\n       'feature_38', 'feature_30', 'feature_10', 'feature_3', 'feature_49',\n       'feature_46', 'feature_51', 'feature_61', 'feature_39', 'feature_27',\n       'feature_4', 'feature_25', 'feature_71', 'feature_68', 'feature_28',\n       'feature_16', 'feature_77', 'feature_76'],\n      dtype='object')"
     },
     "execution_count": 66,
     "metadata": {},
     "output_type": "execute_result"
    }
   ],
   "source": [
    "X_train_normalized.columns[indices[:23]]"
   ],
   "metadata": {
    "collapsed": false,
    "ExecuteTime": {
     "end_time": "2024-03-06T18:48:59.894628200Z",
     "start_time": "2024-03-06T18:48:59.856015500Z"
    }
   },
   "id": "565a9f144caec6aa",
   "execution_count": 66
  },
  {
   "cell_type": "code",
   "outputs": [
    {
     "name": "stdout",
     "output_type": "stream",
     "text": [
      "0.6707012963992246\n"
     ]
    }
   ],
   "source": [
    "model = GradientBoostingRegressor(n_estimators=136, learning_rate=0.067, max_depth=1, min_samples_leaf=7, max_features=None)\n",
    "model.fit(X_train_normalized[X_train_normalized.columns[indices[:23]]], y_train)\n",
    "scores = model.predict(X_test_normalized[X_train_normalized.columns[indices[:23]]])\n",
    "print(ndcg_score([y_test], [scores]))"
   ],
   "metadata": {
    "collapsed": false,
    "ExecuteTime": {
     "end_time": "2024-03-06T18:08:42.184340700Z",
     "start_time": "2024-03-06T18:08:38.011753100Z"
    }
   },
   "id": "a22d3efb623ddd8e",
   "execution_count": 22
  },
  {
   "cell_type": "markdown",
   "source": [
    "Используя только 23 признака, получили значение NDCG метрики равное 0.6707. Это означает, что можно использовать только эти признаки для обучения модели, что уменьшит скорость предсказания."
   ],
   "metadata": {
    "collapsed": false
   },
   "id": "86e0a50a31ed0bea"
  },
  {
   "cell_type": "markdown",
   "source": [
    "Проверим, какие признаки важны для модели XGBRanker."
   ],
   "metadata": {
    "collapsed": false
   },
   "id": "27d1f23fa2b21169"
  },
  {
   "cell_type": "code",
   "outputs": [
    {
     "data": {
      "text/plain": "<Figure size 1600x500 with 1 Axes>",
      "image/png": "[encoded data removed]"
     },
     "metadata": {},
     "output_type": "display_data"
    }
   ],
   "source": [
    "ranker = XGBRanker(objective=\"rank:ndcg\", n_estimators=50, learning_rate=0.0041, max_depth=2, gamma=0.003, min_child_weight=3)\n",
    "ranker.fit(X_train_normalized, y_train, group=train_df.groupby('search_id').size().values)\n",
    "importances = ranker.feature_importances_\n",
    "indices = np.argsort(importances)[::-1]\n",
    "\n",
    "plt.figure(figsize=(16, 5))\n",
    "plt.title(\"Feature importances\")\n",
    "plt.bar(range(X_train_normalized.shape[1]), importances[indices],\n",
    "       color=\"r\", align=\"center\")\n",
    "plt.xticks(range(X_train_normalized.shape[1]), X_train_normalized.columns[indices], rotation=90)\n",
    "plt.xlim([-1, X_train_normalized.shape[1]])\n",
    "plt.show()"
   ],
   "metadata": {
    "collapsed": false,
    "ExecuteTime": {
     "end_time": "2024-03-06T18:46:56.866241300Z",
     "start_time": "2024-03-06T18:46:56.010731Z"
    }
   },
   "id": "efed9c653ab2bac5",
   "execution_count": 59
  },
  {
   "cell_type": "markdown",
   "source": [],
   "metadata": {
    "collapsed": false
   },
   "id": "df7d437683279fec"
  },
  {
   "cell_type": "code",
   "outputs": [
    {
     "data": {
      "text/plain": "Index(['feature_70', 'feature_43', 'feature_61', 'feature_29', 'feature_53',\n       'feature_67', 'feature_51', 'feature_62', 'feature_55', 'feature_41',\n       'feature_72', 'feature_38', 'feature_69', 'feature_52', 'feature_50',\n       'feature_54', 'feature_71', 'feature_66', 'feature_12', 'feature_60',\n       'feature_34', 'feature_45', 'feature_63'],\n      dtype='object')"
     },
     "execution_count": 60,
     "metadata": {},
     "output_type": "execute_result"
    }
   ],
   "source": [
    "X_train_normalized.columns[indices[:23]]"
   ],
   "metadata": {
    "collapsed": false,
    "ExecuteTime": {
     "end_time": "2024-03-06T18:46:59.864881200Z",
     "start_time": "2024-03-06T18:46:59.835883200Z"
    }
   },
   "id": "4ff59cbd78faa645",
   "execution_count": 60
  },
  {
   "cell_type": "code",
   "outputs": [
    {
     "name": "stdout",
     "output_type": "stream",
     "text": [
      "0.660601519976541\n"
     ]
    }
   ],
   "source": [
    "ranker = XGBRanker(objective=\"rank:ndcg\", n_estimators=50, learning_rate=0.0041, max_depth=2, gamma=0.003, min_child_weight=3)\n",
    "ranker.fit(X_train_normalized[X_train_normalized.columns[indices[:23]]], y_train, group=train_df.groupby('search_id').size().values)\n",
    "scores = ranker.predict(X_test_normalized[X_train_normalized.columns[indices[:23]]])\n",
    "print(ndcg_score([y_test], [scores]))"
   ],
   "metadata": {
    "collapsed": false,
    "ExecuteTime": {
     "end_time": "2024-03-06T18:42:29.094596600Z",
     "start_time": "2024-03-06T18:42:28.973598900Z"
    }
   },
   "id": "7d614ec18db2dab5",
   "execution_count": 39
  },
  {
   "cell_type": "markdown",
   "source": [
    "Снова используя только 23 признака, получили значение NDCG метрики равное 0.6606. Что в точности совпадает с результатом, полученным при использовании всех признаков."
   ],
   "metadata": {
    "collapsed": false
   },
   "id": "90fbffb5886ecb87"
  },
  {
   "cell_type": "markdown",
   "source": [
    "# 6 - Дополнительные методы"
   ],
   "metadata": {
    "collapsed": false
   },
   "id": "4cd655c90c3d66da"
  },
  {
   "cell_type": "markdown",
   "source": [
    "Попробуем обучить модели с помощью случайного леса.\n"
   ],
   "metadata": {
    "collapsed": false
   },
   "id": "ab59ac67e037e47"
  },
  {
   "cell_type": "code",
   "outputs": [
    {
     "name": "stdout",
     "output_type": "stream",
     "text": [
      "NDCG score:  0.5341204484995297 params:  {'n_estimators': 253, 'max_depth': 4, 'min_samples_leaf': 5, 'max_features': None} iter:  1\n",
      "NDCG score:  0.5082637445516984 params:  {'n_estimators': 79, 'max_depth': 2, 'min_samples_leaf': 4, 'max_features': 'sqrt'} iter:  2\n",
      "NDCG score:  0.5069121265179809 params:  {'n_estimators': 184, 'max_depth': 8, 'min_samples_leaf': 4, 'max_features': 'log2'} iter:  3\n",
      "NDCG score:  0.5014451989438589 params:  {'n_estimators': 258, 'max_depth': 6, 'min_samples_leaf': 8, 'max_features': 'log2'} iter:  4\n",
      "NDCG score:  0.5057793186991806 params:  {'n_estimators': 258, 'max_depth': 9, 'min_samples_leaf': 8, 'max_features': 'sqrt'} iter:  5\n",
      "NDCG score:  0.47450333934575034 params:  {'n_estimators': 128, 'max_depth': 2, 'min_samples_leaf': 5, 'max_features': 'log2'} iter:  6\n",
      "NDCG score:  0.5334512709928066 params:  {'n_estimators': 160, 'max_depth': 2, 'min_samples_leaf': 9, 'max_features': None} iter:  7\n",
      "NDCG score:  0.5377535873479601 params:  {'n_estimators': 128, 'max_depth': 5, 'min_samples_leaf': 3, 'max_features': None} iter:  8\n",
      "NDCG score:  0.48780640801623076 params:  {'n_estimators': 184, 'max_depth': 2, 'min_samples_leaf': 5, 'max_features': 'log2'} iter:  9\n",
      "NDCG score:  0.5024483113349774 params:  {'n_estimators': 253, 'max_depth': 9, 'min_samples_leaf': 7, 'max_features': 'log2'} iter:  10\n",
      "NDCG score:  0.5254967329056165 params:  {'n_estimators': 258, 'max_depth': 7, 'min_samples_leaf': 4, 'max_features': None} iter:  11\n",
      "NDCG score:  0.5109414816588791 params:  {'n_estimators': 119, 'max_depth': 7, 'min_samples_leaf': 6, 'max_features': 'log2'} iter:  12\n",
      "NDCG score:  0.5096568660435719 params:  {'n_estimators': 184, 'max_depth': 8, 'min_samples_leaf': 7, 'max_features': 'log2'} iter:  13\n",
      "NDCG score:  0.5242122252688308 params:  {'n_estimators': 79, 'max_depth': 2, 'min_samples_leaf': 9, 'max_features': None} iter:  14\n",
      "NDCG score:  0.5919046689306144 params:  {'n_estimators': 87, 'max_depth': 1, 'min_samples_leaf': 3, 'max_features': None} iter:  15\n",
      "NDCG score:  0.494064313326891 params:  {'n_estimators': 184, 'max_depth': 6, 'min_samples_leaf': 1, 'max_features': 'log2'} iter:  16\n",
      "NDCG score:  0.5233307608152449 params:  {'n_estimators': 119, 'max_depth': 5, 'min_samples_leaf': 9, 'max_features': None} iter:  17\n",
      "NDCG score:  0.5310831671690444 params:  {'n_estimators': 253, 'max_depth': 9, 'min_samples_leaf': 5, 'max_features': None} iter:  18\n",
      "NDCG score:  0.5472781347565797 params:  {'n_estimators': 87, 'max_depth': 2, 'min_samples_leaf': 3, 'max_features': None} iter:  19\n",
      "NDCG score:  0.5179911554544687 params:  {'n_estimators': 79, 'max_depth': 7, 'min_samples_leaf': 8, 'max_features': 'sqrt'} iter:  20\n",
      "NDCG score:  0.5181749691114056 params:  {'n_estimators': 253, 'max_depth': 6, 'min_samples_leaf': 1, 'max_features': 'log2'} iter:  21\n",
      "NDCG score:  0.4989871610292148 params:  {'n_estimators': 160, 'max_depth': 3, 'min_samples_leaf': 5, 'max_features': 'sqrt'} iter:  22\n",
      "NDCG score:  0.511209606319871 params:  {'n_estimators': 258, 'max_depth': 2, 'min_samples_leaf': 4, 'max_features': 'sqrt'} iter:  23\n",
      "NDCG score:  0.5410906983747057 params:  {'n_estimators': 79, 'max_depth': 8, 'min_samples_leaf': 9, 'max_features': 'sqrt'} iter:  24\n",
      "NDCG score:  0.5325529678051995 params:  {'n_estimators': 253, 'max_depth': 5, 'min_samples_leaf': 6, 'max_features': None} iter:  25\n",
      "NDCG score:  0.5280349103295139 params:  {'n_estimators': 253, 'max_depth': 7, 'min_samples_leaf': 7, 'max_features': 'sqrt'} iter:  26\n",
      "NDCG score:  0.5364580812961232 params:  {'n_estimators': 119, 'max_depth': 9, 'min_samples_leaf': 7, 'max_features': 'log2'} iter:  27\n",
      "NDCG score:  0.4941441652004134 params:  {'n_estimators': 190, 'max_depth': 1, 'min_samples_leaf': 9, 'max_features': 'sqrt'} iter:  28\n",
      "NDCG score:  0.530378107909761 params:  {'n_estimators': 155, 'max_depth': 6, 'min_samples_leaf': 3, 'max_features': 'sqrt'} iter:  29\n",
      "NDCG score:  0.5155688828853304 params:  {'n_estimators': 79, 'max_depth': 8, 'min_samples_leaf': 9, 'max_features': None} iter:  30\n",
      "NDCG score:  0.5304086725054354 params:  {'n_estimators': 253, 'max_depth': 7, 'min_samples_leaf': 8, 'max_features': None} iter:  31\n",
      "NDCG score:  0.496972094222865 params:  {'n_estimators': 160, 'max_depth': 6, 'min_samples_leaf': 3, 'max_features': 'sqrt'} iter:  32\n",
      "NDCG score:  0.5366234280167241 params:  {'n_estimators': 190, 'max_depth': 3, 'min_samples_leaf': 9, 'max_features': 'sqrt'} iter:  33\n",
      "NDCG score:  0.5054707731420004 params:  {'n_estimators': 184, 'max_depth': 8, 'min_samples_leaf': 8, 'max_features': 'log2'} iter:  34\n",
      "NDCG score:  0.5037253742365653 params:  {'n_estimators': 79, 'max_depth': 6, 'min_samples_leaf': 6, 'max_features': None} iter:  35\n",
      "NDCG score:  0.5975718815359174 params:  {'n_estimators': 128, 'max_depth': 1, 'min_samples_leaf': 1, 'max_features': None} iter:  36\n",
      "NDCG score:  0.5078396102222335 params:  {'n_estimators': 87, 'max_depth': 9, 'min_samples_leaf': 8, 'max_features': 'sqrt'} iter:  37\n",
      "NDCG score:  0.4475896363690693 params:  {'n_estimators': 160, 'max_depth': 2, 'min_samples_leaf': 8, 'max_features': 'log2'} iter:  38\n",
      "NDCG score:  0.5119352989972157 params:  {'n_estimators': 155, 'max_depth': 4, 'min_samples_leaf': 2, 'max_features': 'log2'} iter:  39\n",
      "NDCG score:  0.4754675436543338 params:  {'n_estimators': 79, 'max_depth': 1, 'min_samples_leaf': 4, 'max_features': 'sqrt'} iter:  40\n",
      "NDCG score:  0.5070479953136227 params:  {'n_estimators': 190, 'max_depth': 5, 'min_samples_leaf': 3, 'max_features': 'log2'} iter:  41\n",
      "NDCG score:  0.5366771868807031 params:  {'n_estimators': 128, 'max_depth': 4, 'min_samples_leaf': 9, 'max_features': 'sqrt'} iter:  42\n",
      "NDCG score:  0.5346764801323869 params:  {'n_estimators': 119, 'max_depth': 8, 'min_samples_leaf': 7, 'max_features': None} iter:  43\n",
      "NDCG score:  0.47781108416492474 params:  {'n_estimators': 160, 'max_depth': 1, 'min_samples_leaf': 1, 'max_features': 'log2'} iter:  44\n",
      "NDCG score:  0.5148803733696976 params:  {'n_estimators': 258, 'max_depth': 9, 'min_samples_leaf': 2, 'max_features': 'sqrt'} iter:  45\n",
      "NDCG score:  0.5150301369975484 params:  {'n_estimators': 128, 'max_depth': 5, 'min_samples_leaf': 5, 'max_features': 'sqrt'} iter:  46\n",
      "NDCG score:  0.5097072923644493 params:  {'n_estimators': 128, 'max_depth': 5, 'min_samples_leaf': 3, 'max_features': 'log2'} iter:  47\n",
      "NDCG score:  0.573498535568892 params:  {'n_estimators': 184, 'max_depth': 5, 'min_samples_leaf': 5, 'max_features': None} iter:  48\n",
      "NDCG score:  0.5389088961996465 params:  {'n_estimators': 155, 'max_depth': 9, 'min_samples_leaf': 5, 'max_features': 'log2'} iter:  49\n",
      "NDCG score:  0.5556302341758281 params:  {'n_estimators': 128, 'max_depth': 6, 'min_samples_leaf': 3, 'max_features': None} iter:  50\n",
      "NDCG score:  0.48191667373470126 params:  {'n_estimators': 184, 'max_depth': 2, 'min_samples_leaf': 5, 'max_features': 'log2'} iter:  51\n",
      "NDCG score:  0.5224774179437245 params:  {'n_estimators': 184, 'max_depth': 4, 'min_samples_leaf': 4, 'max_features': 'log2'} iter:  52\n",
      "NDCG score:  0.5152124485305064 params:  {'n_estimators': 119, 'max_depth': 5, 'min_samples_leaf': 7, 'max_features': 'log2'} iter:  53\n",
      "NDCG score:  0.6062950638367753 params:  {'n_estimators': 160, 'max_depth': 6, 'min_samples_leaf': 8, 'max_features': None} iter:  54\n",
      "NDCG score:  0.580543430248625 params:  {'n_estimators': 87, 'max_depth': 2, 'min_samples_leaf': 8, 'max_features': None} iter:  55\n",
      "NDCG score:  0.5334309043258783 params:  {'n_estimators': 253, 'max_depth': 6, 'min_samples_leaf': 2, 'max_features': 'sqrt'} iter:  56\n",
      "NDCG score:  0.5478832242238907 params:  {'n_estimators': 87, 'max_depth': 3, 'min_samples_leaf': 9, 'max_features': None} iter:  57\n",
      "NDCG score:  0.5403998384343428 params:  {'n_estimators': 119, 'max_depth': 9, 'min_samples_leaf': 6, 'max_features': None} iter:  58\n",
      "NDCG score:  0.5222023804805745 params:  {'n_estimators': 119, 'max_depth': 6, 'min_samples_leaf': 9, 'max_features': 'sqrt'} iter:  59\n",
      "NDCG score:  0.5147567434016607 params:  {'n_estimators': 184, 'max_depth': 9, 'min_samples_leaf': 7, 'max_features': 'log2'} iter:  60\n",
      "NDCG score:  0.5428639298589154 params:  {'n_estimators': 258, 'max_depth': 7, 'min_samples_leaf': 8, 'max_features': 'log2'} iter:  61\n",
      "NDCG score:  0.503734387892291 params:  {'n_estimators': 128, 'max_depth': 6, 'min_samples_leaf': 3, 'max_features': 'sqrt'} iter:  62\n",
      "NDCG score:  0.5195403961358163 params:  {'n_estimators': 119, 'max_depth': 5, 'min_samples_leaf': 1, 'max_features': 'log2'} iter:  63\n",
      "NDCG score:  0.5374986927228826 params:  {'n_estimators': 155, 'max_depth': 2, 'min_samples_leaf': 5, 'max_features': None} iter:  64\n",
      "NDCG score:  0.5199964625866392 params:  {'n_estimators': 190, 'max_depth': 7, 'min_samples_leaf': 4, 'max_features': None} iter:  65\n",
      "NDCG score:  0.5175153854627688 params:  {'n_estimators': 128, 'max_depth': 4, 'min_samples_leaf': 7, 'max_features': 'sqrt'} iter:  66\n",
      "NDCG score:  0.5123084072609153 params:  {'n_estimators': 128, 'max_depth': 7, 'min_samples_leaf': 8, 'max_features': 'sqrt'} iter:  67\n",
      "NDCG score:  0.5097545283799816 params:  {'n_estimators': 87, 'max_depth': 9, 'min_samples_leaf': 2, 'max_features': 'sqrt'} iter:  68\n",
      "NDCG score:  0.5066581302995106 params:  {'n_estimators': 79, 'max_depth': 7, 'min_samples_leaf': 7, 'max_features': 'log2'} iter:  69\n",
      "NDCG score:  0.4999285794703711 params:  {'n_estimators': 119, 'max_depth': 5, 'min_samples_leaf': 4, 'max_features': 'log2'} iter:  70\n",
      "NDCG score:  0.5752872687261619 params:  {'n_estimators': 155, 'max_depth': 8, 'min_samples_leaf': 8, 'max_features': 'log2'} iter:  71\n",
      "NDCG score:  0.5131583789562478 params:  {'n_estimators': 119, 'max_depth': 3, 'min_samples_leaf': 2, 'max_features': 'log2'} iter:  72\n",
      "NDCG score:  0.5568711158938958 params:  {'n_estimators': 190, 'max_depth': 8, 'min_samples_leaf': 9, 'max_features': None} iter:  73\n",
      "NDCG score:  0.5134975392108488 params:  {'n_estimators': 128, 'max_depth': 7, 'min_samples_leaf': 8, 'max_features': None} iter:  74\n",
      "NDCG score:  0.5387142047869613 params:  {'n_estimators': 258, 'max_depth': 9, 'min_samples_leaf': 5, 'max_features': 'log2'} iter:  75\n",
      "NDCG score:  0.5164716296590186 params:  {'n_estimators': 253, 'max_depth': 7, 'min_samples_leaf': 9, 'max_features': 'sqrt'} iter:  76\n",
      "NDCG score:  0.517393637461361 params:  {'n_estimators': 253, 'max_depth': 4, 'min_samples_leaf': 4, 'max_features': 'log2'} iter:  77\n",
      "NDCG score:  0.5160969843395333 params:  {'n_estimators': 155, 'max_depth': 5, 'min_samples_leaf': 3, 'max_features': 'log2'} iter:  78\n",
      "NDCG score:  0.5107611990882212 params:  {'n_estimators': 79, 'max_depth': 7, 'min_samples_leaf': 8, 'max_features': 'log2'} iter:  79\n",
      "NDCG score:  0.5323765951371303 params:  {'n_estimators': 258, 'max_depth': 7, 'min_samples_leaf': 4, 'max_features': 'sqrt'} iter:  80\n",
      "NDCG score:  0.549894724977713 params:  {'n_estimators': 79, 'max_depth': 9, 'min_samples_leaf': 7, 'max_features': 'sqrt'} iter:  81\n",
      "NDCG score:  0.5053389794797332 params:  {'n_estimators': 253, 'max_depth': 4, 'min_samples_leaf': 6, 'max_features': 'sqrt'} iter:  82\n",
      "NDCG score:  0.5441995183287225 params:  {'n_estimators': 253, 'max_depth': 8, 'min_samples_leaf': 9, 'max_features': None} iter:  83\n",
      "NDCG score:  0.5259238436381788 params:  {'n_estimators': 160, 'max_depth': 5, 'min_samples_leaf': 1, 'max_features': 'sqrt'} iter:  84\n",
      "NDCG score:  0.55613696101207 params:  {'n_estimators': 128, 'max_depth': 4, 'min_samples_leaf': 3, 'max_features': None} iter:  85\n",
      "NDCG score:  0.5137767930536693 params:  {'n_estimators': 253, 'max_depth': 9, 'min_samples_leaf': 4, 'max_features': 'log2'} iter:  86\n",
      "NDCG score:  0.5276195801593215 params:  {'n_estimators': 160, 'max_depth': 6, 'min_samples_leaf': 5, 'max_features': None} iter:  87\n",
      "NDCG score:  0.5486534782179281 params:  {'n_estimators': 184, 'max_depth': 6, 'min_samples_leaf': 9, 'max_features': None} iter:  88\n",
      "NDCG score:  0.5031813830338902 params:  {'n_estimators': 155, 'max_depth': 9, 'min_samples_leaf': 1, 'max_features': 'sqrt'} iter:  89\n",
      "NDCG score:  0.5122390812587342 params:  {'n_estimators': 190, 'max_depth': 8, 'min_samples_leaf': 8, 'max_features': 'log2'} iter:  90\n",
      "NDCG score:  0.4999798856554093 params:  {'n_estimators': 184, 'max_depth': 4, 'min_samples_leaf': 1, 'max_features': 'sqrt'} iter:  91\n",
      "NDCG score:  0.5049622602814137 params:  {'n_estimators': 160, 'max_depth': 7, 'min_samples_leaf': 7, 'max_features': 'log2'} iter:  92\n",
      "NDCG score:  0.5504082666353994 params:  {'n_estimators': 79, 'max_depth': 9, 'min_samples_leaf': 9, 'max_features': None} iter:  93\n",
      "NDCG score:  0.5772895086628179 params:  {'n_estimators': 79, 'max_depth': 1, 'min_samples_leaf': 8, 'max_features': None} iter:  94\n",
      "NDCG score:  0.551195096145508 params:  {'n_estimators': 184, 'max_depth': 5, 'min_samples_leaf': 1, 'max_features': None} iter:  95\n",
      "NDCG score:  0.5319803816821358 params:  {'n_estimators': 190, 'max_depth': 7, 'min_samples_leaf': 7, 'max_features': None} iter:  96\n",
      "NDCG score:  0.4699642955482774 params:  {'n_estimators': 87, 'max_depth': 4, 'min_samples_leaf': 2, 'max_features': 'sqrt'} iter:  97\n",
      "NDCG score:  0.49874384894582896 params:  {'n_estimators': 253, 'max_depth': 4, 'min_samples_leaf': 1, 'max_features': 'log2'} iter:  98\n",
      "NDCG score:  0.5295660218778737 params:  {'n_estimators': 258, 'max_depth': 5, 'min_samples_leaf': 9, 'max_features': None} iter:  99\n",
      "NDCG score:  0.5494045095292748 params:  {'n_estimators': 87, 'max_depth': 2, 'min_samples_leaf': 2, 'max_features': None} iter:  100\n",
      "Best parameters found:  {'n_estimators': 160, 'max_depth': 6, 'min_samples_leaf': 8, 'max_features': None} with NDCG score:  0.6062950638367753\n"
     ]
    }
   ],
   "source": [
    "param_grid = {\n",
    "    'n_estimators': np.random.randint(50, 300, 10),\n",
    "    'max_depth': np.arange(1, 10),\n",
    "    'min_samples_leaf': np.arange(1, 10),\n",
    "    'max_features': ['sqrt', 'log2', None],\n",
    "}\n",
    "\n",
    "model = RandomForestRegressor()\n",
    "best_params, best_score = random_search(model, param_grid,\n",
    "                                        X_train_normalized, y_train,\n",
    "                                        X_test_normalized, y_test, n_iter=100)\n"
   ],
   "metadata": {
    "collapsed": false,
    "ExecuteTime": {
     "end_time": "2024-03-06T19:22:45.910740400Z",
     "start_time": "2024-03-06T18:52:47.797263700Z"
    }
   },
   "id": "40efd5881aed913d",
   "execution_count": 68
  },
  {
   "cell_type": "markdown",
   "source": [
    "Best parameters found:  {'n_estimators': 160, 'max_depth': 6, 'min_samples_leaf': 8, 'max_features': None} with NDCG score:  0.6062950638367753"
   ],
   "metadata": {
    "collapsed": false
   },
   "id": "3ea42d4bfc6a0025"
  },
  {
   "cell_type": "markdown",
   "source": [
    "# 7 - Выводы\n",
    "\n",
    "В ходе выполнения работы были обучены модели градиентного бустинга и XGBRanker. Для каждой модели были подобраны гиперпараметры с помощью случайного поиска. Также было выполнено уменьшение размерности данных с помощью метода главных компонент. После этого были обучены модели с новыми данными. В результате были получены следующие значения NDCG метрики:\n",
    "- Градиентный бустинг: 0.6736\n",
    "- XGBRanker: 0.6606\n",
    "- Градиентный бустинг с использованием только 23 наиболее важных признаков: 0.6707\n",
    "- XGBRanker с использованием только 23 наиболее важных признаков: 0.6606\n",
    "- Случайный лес: 0.6063\n",
    "\n",
    "Таким образом, лучшей моделью оказалась модель градиентного бустинга, обученная на всех признаках. Также было показано, что можно использовать только 23 наиболее важных признака для обучения модели, что уменьшит время обучения и скорость предсказания.\n",
    "\n"
   ],
   "metadata": {
    "collapsed": false
   },
   "id": "261741907ed4da4a"
  }
 ],
 "metadata": {
  "kernelspec": {
   "display_name": "Python 3",
   "language": "python",
   "name": "python3"
  },
  "language_info": {
   "codemirror_mode": {
    "name": "ipython",
    "version": 2
   },
   "file_extension": ".py",
   "mimetype": "text/x-python",
   "name": "python",
   "nbconvert_exporter": "python",
   "pygments_lexer": "ipython2",
   "version": "2.7.6"
  }
 },
 "nbformat": 4,
 "nbformat_minor": 5
}
